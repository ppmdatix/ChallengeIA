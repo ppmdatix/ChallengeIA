{
 "cells": [
  {
   "cell_type": "code",
   "execution_count": 6,
   "metadata": {
    "collapsed": true
   },
   "outputs": [],
   "source": [
    "import numpy as np\n",
    "from keras.preprocessing.image import ImageDataGenerator\n",
    "from keras.models import Sequential\n",
    "from keras.layers import Conv2D, MaxPooling2D\n",
    "from keras.layers import Activation, Dropout, Flatten, Dense\n",
    "from keras import backend as K\n",
    "from tqdm import *\n",
    "import os \n",
    "import numpy as np \n",
    "from keras.preprocessing import image\n",
    "from keras.initializers import RandomNormal as RN\n",
    "\n",
    "\n",
    "trained = True\n",
    "size = 128\n",
    "modelSMALL = Sequential()\n",
    "inputShape = (size, size, 3)\n",
    "modelSMALL.add(Conv2D(20, (5, 5), \n",
    "                  padding=\"same\", \n",
    "                  input_shape=inputShape,\n",
    "                  kernel_initializer=RN(0,1)))\n",
    "modelSMALL.add(Activation(\"relu\"))\n",
    "modelSMALL.add(MaxPooling2D(pool_size=(2, 2), strides=(2, 2)))\n",
    "\n",
    "# second set of CONV => RELU => POOL layers\n",
    "modelSMALL.add(Conv2D(50, (5, 5), padding=\"same\"))\n",
    "modelSMALL.add(Activation(\"relu\"))\n",
    "modelSMALL.add(MaxPooling2D(pool_size=(2, 2), strides=(2, 2)))\n",
    "\n",
    "# first (and only) set of FC => RELU layers\n",
    "modelSMALL.add(Flatten())\n",
    "modelSMALL.add(Dense(32))\n",
    "modelSMALL.add(Activation(\"sigmoid\"))\n",
    "\n",
    "# softmax classifier\n",
    "modelSMALL.add(Dense(1))\n",
    "modelSMALL.add(Activation(\"relu\"))\n",
    "if trained:\n",
    "    modelSMALL.load_weights('model/modelSMALL.h5')"
   ]
  },
  {
   "cell_type": "code",
   "execution_count": null,
   "metadata": {
    "collapsed": true
   },
   "outputs": [],
   "source": []
  },
  {
   "cell_type": "code",
   "execution_count": 7,
   "metadata": {},
   "outputs": [
    {
     "name": "stdout",
     "output_type": "stream",
     "text": [
      "ChallengeIA.ipynb  essais.ipynb       \u001b[34mmodel\u001b[m\u001b[m/             model_plot.png\r\n",
      "\u001b[34mdata_airbus_defi\u001b[m\u001b[m/  first_try.h5       model.png\r\n"
     ]
    }
   ],
   "source": [
    "%ls"
   ]
  },
  {
   "cell_type": "code",
   "execution_count": 12,
   "metadata": {},
   "outputs": [
    {
     "data": {
      "image/png": "[encoded data removed]",
      "text/plain": [
       "<matplotlib.figure.Figure at 0x112a867f0>"
      ]
     },
     "metadata": {},
     "output_type": "display_data"
    }
   ],
   "source": [
    "import pylab as pl\n",
    "import matplotlib.cm as cm\n",
    "import numpy as np\n",
    "from PIL import Image\n",
    "im = Image.open('data_airbus_defi/test/0.jpg')\n",
    "im_grey = im.convert('L') # convert the image to *greyscale*\n",
    "#im_bw = im_grey.point(lambda x: 0 if x<128 else 255, '1')\n",
    "im_array = np.array(im_grey)\n",
    "pl.imshow(im_array, cmap=cm.Greys_r)\n",
    "pl.show() "
   ]
  },
  {
   "cell_type": "code",
   "execution_count": 14,
   "metadata": {},
   "outputs": [
    {
     "data": {
      "text/plain": [
       "array([[48, 46, 44, ..., 71, 70, 69],\n",
       "       [48, 46, 44, ..., 71, 71, 70],\n",
       "       [47, 45, 44, ..., 70, 71, 71],\n",
       "       ...,\n",
       "       [62, 62, 64, ..., 80, 71, 63],\n",
       "       [64, 65, 66, ..., 85, 73, 63],\n",
       "       [66, 66, 67, ..., 87, 74, 63]], dtype=uint8)"
      ]
     },
     "execution_count": 14,
     "metadata": {},
     "output_type": "execute_result"
    }
   ],
   "source": [
    "im_array"
   ]
  },
  {
   "cell_type": "code",
   "execution_count": 1,
   "metadata": {
    "collapsed": true
   },
   "outputs": [],
   "source": [
    "import pandas as pd\n",
    "df_submission = pd.read_csv(\"data_airbus_defi/template_answer.csv\", sep=\";\")\n",
    "submission = [0 for _ in range(len(df_submission[\"prediction\"]))]\n",
    "df_submission[\"prediction\"] = submission\n",
    "df_submission = df_submission.set_index(\"name\")\n",
    "df_submission.to_csv(\"data_airbus_defi/0test.csv\", sep=\";\")"
   ]
  },
  {
   "cell_type": "code",
   "execution_count": 4,
   "metadata": {
    "collapsed": true
   },
   "outputs": [],
   "source": [
    "df_submission = pd.read_csv(\"data_airbus_defi/template_answer.csv\", sep=\";\")\n",
    "submission = [0 for _ in range(len(df_submission[\"prediction\"]))]\n",
    "df_submission[\"prediction\"] = submission\n",
    "df_submission = df_submission.set_index(\"name\")\n",
    "df_submission.to_csv(\"data_airbus_defi/0test.csv\", sep=\";\")"
   ]
  },
  {
   "cell_type": "code",
   "execution_count": 10,
   "metadata": {
    "collapsed": true
   },
   "outputs": [],
   "source": [
    "submission = [0 for _ in range(len(df_submission[\"prediction\"]))]\n",
    "df_submission[\"prediction\"] = submission\n",
    "df_submission = df_submission.set_index(\"name\")\n",
    "df_submission.to_csv(\"data_airbus_defi/0test.csv\", sep=\";\")"
   ]
  },
  {
   "cell_type": "code",
   "execution_count": 13,
   "metadata": {
    "collapsed": true
   },
   "outputs": [],
   "source": [
    "df_submission = df_submission.set_index(\"name\")\n",
    "df_submission.to_csv(\"data_airbus_defi/0test.csv\", sep=\";\")"
   ]
  },
  {
   "cell_type": "code",
   "execution_count": 16,
   "metadata": {
    "collapsed": true
   },
   "outputs": [],
   "source": [
    "df_submission.to_csv(\"data_airbus_defi/0test.csv\", sep=\";\")"
   ]
  },
  {
   "cell_type": "code",
   "execution_count": null,
   "metadata": {
    "collapsed": true
   },
   "outputs": [],
   "source": []
  }
 ],
 "metadata": {
  "kernelspec": {
   "display_name": "Python 3",
   "language": "python",
   "name": "python3"
  },
  "language_info": {
   "codemirror_mode": {
    "name": "ipython",
    "version": 3
   },
   "file_extension": ".py",
   "mimetype": "text/x-python",
   "name": "python",
   "nbconvert_exporter": "python",
   "pygments_lexer": "ipython3",
   "version": "3.6.0"
  }
 },
 "nbformat": 4,
 "nbformat_minor": 2
}
